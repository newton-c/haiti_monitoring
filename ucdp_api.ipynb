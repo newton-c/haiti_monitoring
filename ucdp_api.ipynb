{
  "nbformat": 4,
  "nbformat_minor": 0,
  "metadata": {
    "colab": {
      "provenance": [],
      "authorship_tag": "ABX9TyNV8T8dMpo8uQmD8+n5oSQ2",
      "include_colab_link": true
    },
    "kernelspec": {
      "name": "ir",
      "display_name": "R"
    },
    "language_info": {
      "name": "R"
    }
  },
  "cells": [
    {
      "cell_type": "markdown",
      "metadata": {
        "id": "view-in-github",
        "colab_type": "text"
      },
      "source": [
        "<a href=\"https://colab.research.google.com/github/newton-c/haiti_monitoring/blob/main/ucdp_api.ipynb\" target=\"_parent\"><img src=\"https://colab.research.google.com/assets/colab-badge.svg\" alt=\"Open In Colab\"/></a>"
      ]
    },
    {
      "cell_type": "code",
      "execution_count": 5,
      "metadata": {
        "colab": {
          "base_uri": "https://localhost:8080/"
        },
        "id": "uMTZPgOaD67p",
        "outputId": "1acb005c-621d-4cad-ea02-c1aadf3873ad"
      },
      "outputs": [
        {
          "output_type": "stream",
          "name": "stderr",
          "text": [
            "\n",
            "Attaching package: ‘jsonlite’\n",
            "\n",
            "\n",
            "The following object is masked from ‘package:purrr’:\n",
            "\n",
            "    flatten\n",
            "\n",
            "\n"
          ]
        }
      ],
      "source": [
        "library(tidyverse) # data wrangling\n",
        "library(httr) # call the api\n",
        "library(jsonlite) # convert the JSON api response to a dataframe"
      ]
    },
    {
      "cell_type": "markdown",
      "source": [
        "### Get the last month's GED dataset\n",
        "To automatically get the lastest data, we may run into two problems:\n",
        "\n",
        "1. As the data are updated monthly, we need the version of the previous month. This is usually simple as we can take one away from the current month. But in January, we have to subtract from the year, and make the month 12.\n",
        "\n",
        "2. If we call the API before the newest month is availibe, we'll get an error.\n",
        " To make it easier for those that are unfamiliar with the code, have the code return an error, but then try the previous month to see if the error is a result of asking for data that hasn't been updated yet, or if there is another\n",
        " connection error that need to be debugged. The `month` parameter in this\n",
        "`def_version` function allows the later code to define the earlier month."
      ],
      "metadata": {
        "id": "IlZng7DwqaLY"
      }
    },
    {
      "cell_type": "code",
      "source": [
        "def_version <- function(month = NULL) {\n",
        "  if (is.null(month)) {\n",
        "    # for January, we need to go the December of the previous year\n",
        "    if (as.numeric(format(Sys.Date(), \"%m\")) == 1) {\n",
        "      year <- as.numeric(format(Sys.Date(), \"%y\")) - 1\n",
        "      month <- 12\n",
        "      version <- paste(year, 0, month, sep=\".\")\n",
        "    } else {\n",
        "      year <- format(Sys.Date(), \"%y\")\n",
        "      month <- as.numeric(format(Sys.Date(), \"%m\")) - 1\n",
        "      version <- paste(year, 0, month, sep=\".\")\n",
        "    }\n",
        "  } else if (!is.null(month)) {\n",
        "    # for January, we need to go the December of the previous year\n",
        "    if (month == 1) {\n",
        "      year <- as.numeric(format(Sys.Date(), \"%y\")) - 1\n",
        "      month <- 12\n",
        "      version <- paste(year, 0, month, sep=\".\")\n",
        "    } else {\n",
        "      year <- format(Sys.Date(), \"%y\")\n",
        "      month <- month\n",
        "      version <- paste(year, 0, month, sep=\".\")\n",
        "    }\n",
        "  }\n",
        "  return(version)\n",
        "}"
      ],
      "metadata": {
        "id": "Zf2HvHQpqsPa"
      },
      "execution_count": 6,
      "outputs": []
    },
    {
      "cell_type": "markdown",
      "source": [
        "As of now, the only parameter changing in the API is the version of the dataset. This will likely change as we refine what we want to monitor."
      ],
      "metadata": {
        "id": "8-xt45b17guO"
      }
    },
    {
      "cell_type": "code",
      "source": [
        "def_url <- function(version) {\n",
        "  url = paste0(\"https://ucdpapi.pcr.uu.se/api/\",\n",
        "              \"gedevents\",  \"/\",\n",
        "              version, \"?pagesize=1000&\",\n",
        "              \"Country=41\")\n",
        "}"
      ],
      "metadata": {
        "id": "ulBvwvGrEKbn"
      },
      "execution_count": 7,
      "outputs": []
    },
    {
      "cell_type": "code",
      "source": [
        "# get the version from last month\n",
        "version <- def_version()\n",
        "version\n",
        "\n",
        "# define the API's URL\n",
        "api_url <- def_url(version = version)\n",
        "api_url"
      ],
      "metadata": {
        "colab": {
          "base_uri": "https://localhost:8080/",
          "height": 52
        },
        "id": "U3ZKDyAhn3lm",
        "outputId": "b4d670c1-c817-460d-b2b4-e46ba20893e7"
      },
      "execution_count": 8,
      "outputs": [
        {
          "output_type": "display_data",
          "data": {
            "text/html": [
              "'24.0.8'"
            ],
            "text/markdown": "'24.0.8'",
            "text/latex": "'24.0.8'",
            "text/plain": [
              "[1] \"24.0.8\""
            ]
          },
          "metadata": {}
        },
        {
          "output_type": "display_data",
          "data": {
            "text/html": [
              "'https://ucdpapi.pcr.uu.se/api/gedevents/24.0.8?pagesize=1000&amp;Country=41'"
            ],
            "text/markdown": "'https://ucdpapi.pcr.uu.se/api/gedevents/24.0.8?pagesize=1000&amp;Country=41'",
            "text/latex": "'https://ucdpapi.pcr.uu.se/api/gedevents/24.0.8?pagesize=1000\\&Country=41'",
            "text/plain": [
              "[1] \"https://ucdpapi.pcr.uu.se/api/gedevents/24.0.8?pagesize=1000&Country=41\""
            ]
          },
          "metadata": {}
        }
      ]
    },
    {
      "cell_type": "markdown",
      "source": [
        "This code with will make the API request, assuming last month's data is the latest available. The code checks whether the connection was successful (`status_code` should be 200). If the connection is not successful, the code returns an error, printing the `status_code` (this can be looked up online to better understand what may be causing the problem), and then tries the API again with the versions from two months ago. If still unsucceful, the program prints the latest `status_code` and stops running."
      ],
      "metadata": {
        "id": "ANYQAFFO8OeU"
      }
    },
    {
      "cell_type": "code",
      "source": [
        "# make the API request\n",
        "api <- GET(api_url)\n",
        "\n",
        "if (api$status_code != 200) {\n",
        "  print(paste(\"Error: could not connect to the API | \",\n",
        "              \"Status: \", api$status_code,\n",
        "              \" | The latest month may not be availible. \",\n",
        "              \"Trying the previous month\", sep = \"\\n\"))\n",
        "\n",
        "  # redefine the API call with the version from two months ago\n",
        "  month <- as.numeric(format(Sys.Date(), \"%m\")) - 2\n",
        "  version <- def_version(month = month)\n",
        "  api_url <- def_url(version = version)\n",
        "  api <- GET(api_url)\n",
        "  if (api$status_code != 200) {\n",
        "    stop(paste0(\"Error: Still cannot connect to the API | Status: \",\n",
        "         api$status_code))\n",
        "  } else {\n",
        "    print(paste0(\"Conected successfully | Status: \", api$status_code))\n",
        "  }\n",
        "}\n",
        "\n",
        "print(api)"
      ],
      "metadata": {
        "colab": {
          "base_uri": "https://localhost:8080/"
        },
        "id": "taNUzkhMobbf",
        "outputId": "8976f44b-f9e8-4549-8ec9-74cf5b3d7203"
      },
      "execution_count": 9,
      "outputs": [
        {
          "output_type": "stream",
          "name": "stdout",
          "text": [
            "Response [https://ucdpapi.pcr.uu.se/api/gedevents/24.0.8?pagesize=1000&Country=41]\n",
            "  Date: 2024-09-27 23:32\n",
            "  Status: 200\n",
            "  Content-Type: application/json; charset=utf-8\n",
            "  Size: 13.8 kB\n",
            "{\r\n",
            "  \"TotalCount\": 7,\r\n",
            "  \"TotalPages\": 1,\r\n",
            "  \"PreviousPageUrl\": null,\r\n",
            "  \"NextPageUrl\": \"\",\r\n",
            "  \"Result\": [\r\n",
            "    {\r\n",
            "      \"id\": 535457,\r\n",
            "      \"relid\": \"HAI-2024-1-1-XXX41-32\",\r\n",
            "      \"year\": 2024,\r\n",
            "...\n"
          ]
        }
      ]
    },
    {
      "cell_type": "code",
      "source": [
        "api_df = fromJSON(rawToChar(api$content))$Result # API to dataframe\n",
        "print(colnames(api_df))\n",
        "head(api_df)"
      ],
      "metadata": {
        "colab": {
          "base_uri": "https://localhost:8080/",
          "height": 1000
        },
        "id": "3nF8Xt0vocVn",
        "outputId": "cec97c60-40f0-4494-a35b-24d6fd80d8a2"
      },
      "execution_count": 10,
      "outputs": [
        {
          "output_type": "stream",
          "name": "stdout",
          "text": [
            " [1] \"id\"                \"relid\"             \"year\"             \n",
            " [4] \"active_year\"       \"code_status\"       \"type_of_violence\" \n",
            " [7] \"conflict_dset_id\"  \"conflict_new_id\"   \"conflict_name\"    \n",
            "[10] \"dyad_dset_id\"      \"dyad_new_id\"       \"dyad_name\"        \n",
            "[13] \"side_a_dset_id\"    \"side_a_new_id\"     \"side_a\"           \n",
            "[16] \"side_b_dset_id\"    \"side_b_new_id\"     \"side_b\"           \n",
            "[19] \"number_of_sources\" \"source_article\"    \"source_office\"    \n",
            "[22] \"source_date\"       \"source_headline\"   \"source_original\"  \n",
            "[25] \"where_prec\"        \"where_coordinates\" \"where_description\"\n",
            "[28] \"adm_1\"             \"adm_2\"             \"latitude\"         \n",
            "[31] \"longitude\"         \"geom_wkt\"          \"priogrid_gid\"     \n",
            "[34] \"country\"           \"country_id\"        \"region\"           \n",
            "[37] \"event_clarity\"     \"date_prec\"         \"date_start\"       \n",
            "[40] \"date_end\"          \"deaths_a\"          \"deaths_b\"         \n",
            "[43] \"deaths_civilians\"  \"deaths_unknown\"    \"best\"             \n",
            "[46] \"high\"              \"low\"               \"gwnoa\"            \n",
            "[49] \"gwnob\"            \n"
          ]
        },
        {
          "output_type": "display_data",
          "data": {
            "text/html": [
              "<table class=\"dataframe\">\n",
              "<caption>A data.frame: 6 × 49</caption>\n",
              "<thead>\n",
              "\t<tr><th></th><th scope=col>id</th><th scope=col>relid</th><th scope=col>year</th><th scope=col>active_year</th><th scope=col>code_status</th><th scope=col>type_of_violence</th><th scope=col>conflict_dset_id</th><th scope=col>conflict_new_id</th><th scope=col>conflict_name</th><th scope=col>dyad_dset_id</th><th scope=col>⋯</th><th scope=col>date_end</th><th scope=col>deaths_a</th><th scope=col>deaths_b</th><th scope=col>deaths_civilians</th><th scope=col>deaths_unknown</th><th scope=col>best</th><th scope=col>high</th><th scope=col>low</th><th scope=col>gwnoa</th><th scope=col>gwnob</th></tr>\n",
              "\t<tr><th></th><th scope=col>&lt;int&gt;</th><th scope=col>&lt;chr&gt;</th><th scope=col>&lt;int&gt;</th><th scope=col>&lt;lgl&gt;</th><th scope=col>&lt;chr&gt;</th><th scope=col>&lt;int&gt;</th><th scope=col>&lt;chr&gt;</th><th scope=col>&lt;int&gt;</th><th scope=col>&lt;chr&gt;</th><th scope=col>&lt;chr&gt;</th><th scope=col>⋯</th><th scope=col>&lt;chr&gt;</th><th scope=col>&lt;int&gt;</th><th scope=col>&lt;int&gt;</th><th scope=col>&lt;int&gt;</th><th scope=col>&lt;int&gt;</th><th scope=col>&lt;int&gt;</th><th scope=col>&lt;int&gt;</th><th scope=col>&lt;int&gt;</th><th scope=col>&lt;lgl&gt;</th><th scope=col>&lt;lgl&gt;</th></tr>\n",
              "</thead>\n",
              "<tbody>\n",
              "\t<tr><th scope=row>1</th><td>535457</td><td>HAI-2024-1-1-XXX41-32</td><td>2024</td><td>FALSE</td><td>Check dyad</td><td>1</td><td>XXX41  </td><td>  70</td><td>XXX41            </td><td>1-XXX41</td><td>⋯</td><td>2024-08-11T00:00:00</td><td>0</td><td> 7</td><td>0</td><td>0</td><td> 7</td><td> 7</td><td> 7</td><td>NA</td><td>NA</td></tr>\n",
              "\t<tr><th scope=row>2</th><td>539259</td><td>HAI-2024-1-1-XXX41-33</td><td>2024</td><td>FALSE</td><td>Check dyad</td><td>1</td><td>XXX41  </td><td>  70</td><td>XXX41            </td><td>1-XXX41</td><td>⋯</td><td>2024-08-16T00:00:00</td><td>0</td><td>12</td><td>0</td><td>0</td><td>12</td><td>12</td><td>12</td><td>NA</td><td>NA</td></tr>\n",
              "\t<tr><th scope=row>3</th><td>539262</td><td>HAI-2024-1-1-XXX41-34</td><td>2024</td><td>FALSE</td><td>Check dyad</td><td>1</td><td>XXX41  </td><td>  70</td><td>XXX41            </td><td>1-XXX41</td><td>⋯</td><td>2024-08-28T00:00:00</td><td>1</td><td> 0</td><td>0</td><td>0</td><td> 1</td><td> 1</td><td> 1</td><td>NA</td><td>NA</td></tr>\n",
              "\t<tr><th scope=row>4</th><td>539865</td><td>HAI-2024-1-1-XXX41-35</td><td>2024</td><td>FALSE</td><td>Check dyad</td><td>1</td><td>XXX41  </td><td>  70</td><td>XXX41            </td><td>1-XXX41</td><td>⋯</td><td>2024-08-24T00:00:00</td><td>0</td><td> 4</td><td>0</td><td>0</td><td> 4</td><td> 4</td><td> 4</td><td>NA</td><td>NA</td></tr>\n",
              "\t<tr><th scope=row>5</th><td>539867</td><td>HAI-2024-2-2-XXX41-27</td><td>2024</td><td>FALSE</td><td>Check dyad</td><td>2</td><td>2-XXX41</td><td>  70</td><td>XXX41 - XXX41    </td><td>2-XXX41</td><td>⋯</td><td>2024-08-15T00:00:00</td><td>0</td><td> 0</td><td>0</td><td>1</td><td> 1</td><td> 1</td><td> 1</td><td>NA</td><td>NA</td></tr>\n",
              "\t<tr><th scope=row>6</th><td>539871</td><td>HAI-2024-3-3-XXX41-19</td><td>2024</td><td>FALSE</td><td>Check dyad</td><td>3</td><td>XXX41  </td><td>4329</td><td>XXX41 - Civilians</td><td>XXX41  </td><td>⋯</td><td>2024-08-11T00:00:00</td><td>0</td><td> 0</td><td>1</td><td>0</td><td> 1</td><td> 1</td><td> 1</td><td>NA</td><td>NA</td></tr>\n",
              "</tbody>\n",
              "</table>\n"
            ],
            "text/markdown": "\nA data.frame: 6 × 49\n\n| <!--/--> | id &lt;int&gt; | relid &lt;chr&gt; | year &lt;int&gt; | active_year &lt;lgl&gt; | code_status &lt;chr&gt; | type_of_violence &lt;int&gt; | conflict_dset_id &lt;chr&gt; | conflict_new_id &lt;int&gt; | conflict_name &lt;chr&gt; | dyad_dset_id &lt;chr&gt; | ⋯ ⋯ | date_end &lt;chr&gt; | deaths_a &lt;int&gt; | deaths_b &lt;int&gt; | deaths_civilians &lt;int&gt; | deaths_unknown &lt;int&gt; | best &lt;int&gt; | high &lt;int&gt; | low &lt;int&gt; | gwnoa &lt;lgl&gt; | gwnob &lt;lgl&gt; |\n|---|---|---|---|---|---|---|---|---|---|---|---|---|---|---|---|---|---|---|---|---|---|\n| 1 | 535457 | HAI-2024-1-1-XXX41-32 | 2024 | FALSE | Check dyad | 1 | XXX41   |   70 | XXX41             | 1-XXX41 | ⋯ | 2024-08-11T00:00:00 | 0 |  7 | 0 | 0 |  7 |  7 |  7 | NA | NA |\n| 2 | 539259 | HAI-2024-1-1-XXX41-33 | 2024 | FALSE | Check dyad | 1 | XXX41   |   70 | XXX41             | 1-XXX41 | ⋯ | 2024-08-16T00:00:00 | 0 | 12 | 0 | 0 | 12 | 12 | 12 | NA | NA |\n| 3 | 539262 | HAI-2024-1-1-XXX41-34 | 2024 | FALSE | Check dyad | 1 | XXX41   |   70 | XXX41             | 1-XXX41 | ⋯ | 2024-08-28T00:00:00 | 1 |  0 | 0 | 0 |  1 |  1 |  1 | NA | NA |\n| 4 | 539865 | HAI-2024-1-1-XXX41-35 | 2024 | FALSE | Check dyad | 1 | XXX41   |   70 | XXX41             | 1-XXX41 | ⋯ | 2024-08-24T00:00:00 | 0 |  4 | 0 | 0 |  4 |  4 |  4 | NA | NA |\n| 5 | 539867 | HAI-2024-2-2-XXX41-27 | 2024 | FALSE | Check dyad | 2 | 2-XXX41 |   70 | XXX41 - XXX41     | 2-XXX41 | ⋯ | 2024-08-15T00:00:00 | 0 |  0 | 0 | 1 |  1 |  1 |  1 | NA | NA |\n| 6 | 539871 | HAI-2024-3-3-XXX41-19 | 2024 | FALSE | Check dyad | 3 | XXX41   | 4329 | XXX41 - Civilians | XXX41   | ⋯ | 2024-08-11T00:00:00 | 0 |  0 | 1 | 0 |  1 |  1 |  1 | NA | NA |\n\n",
            "text/latex": "A data.frame: 6 × 49\n\\begin{tabular}{r|lllllllllllllllllllll}\n  & id & relid & year & active\\_year & code\\_status & type\\_of\\_violence & conflict\\_dset\\_id & conflict\\_new\\_id & conflict\\_name & dyad\\_dset\\_id & ⋯ & date\\_end & deaths\\_a & deaths\\_b & deaths\\_civilians & deaths\\_unknown & best & high & low & gwnoa & gwnob\\\\\n  & <int> & <chr> & <int> & <lgl> & <chr> & <int> & <chr> & <int> & <chr> & <chr> & ⋯ & <chr> & <int> & <int> & <int> & <int> & <int> & <int> & <int> & <lgl> & <lgl>\\\\\n\\hline\n\t1 & 535457 & HAI-2024-1-1-XXX41-32 & 2024 & FALSE & Check dyad & 1 & XXX41   &   70 & XXX41             & 1-XXX41 & ⋯ & 2024-08-11T00:00:00 & 0 &  7 & 0 & 0 &  7 &  7 &  7 & NA & NA\\\\\n\t2 & 539259 & HAI-2024-1-1-XXX41-33 & 2024 & FALSE & Check dyad & 1 & XXX41   &   70 & XXX41             & 1-XXX41 & ⋯ & 2024-08-16T00:00:00 & 0 & 12 & 0 & 0 & 12 & 12 & 12 & NA & NA\\\\\n\t3 & 539262 & HAI-2024-1-1-XXX41-34 & 2024 & FALSE & Check dyad & 1 & XXX41   &   70 & XXX41             & 1-XXX41 & ⋯ & 2024-08-28T00:00:00 & 1 &  0 & 0 & 0 &  1 &  1 &  1 & NA & NA\\\\\n\t4 & 539865 & HAI-2024-1-1-XXX41-35 & 2024 & FALSE & Check dyad & 1 & XXX41   &   70 & XXX41             & 1-XXX41 & ⋯ & 2024-08-24T00:00:00 & 0 &  4 & 0 & 0 &  4 &  4 &  4 & NA & NA\\\\\n\t5 & 539867 & HAI-2024-2-2-XXX41-27 & 2024 & FALSE & Check dyad & 2 & 2-XXX41 &   70 & XXX41 - XXX41     & 2-XXX41 & ⋯ & 2024-08-15T00:00:00 & 0 &  0 & 0 & 1 &  1 &  1 &  1 & NA & NA\\\\\n\t6 & 539871 & HAI-2024-3-3-XXX41-19 & 2024 & FALSE & Check dyad & 3 & XXX41   & 4329 & XXX41 - Civilians & XXX41   & ⋯ & 2024-08-11T00:00:00 & 0 &  0 & 1 & 0 &  1 &  1 &  1 & NA & NA\\\\\n\\end{tabular}\n",
            "text/plain": [
              "  id     relid                 year active_year code_status type_of_violence\n",
              "1 535457 HAI-2024-1-1-XXX41-32 2024 FALSE       Check dyad  1               \n",
              "2 539259 HAI-2024-1-1-XXX41-33 2024 FALSE       Check dyad  1               \n",
              "3 539262 HAI-2024-1-1-XXX41-34 2024 FALSE       Check dyad  1               \n",
              "4 539865 HAI-2024-1-1-XXX41-35 2024 FALSE       Check dyad  1               \n",
              "5 539867 HAI-2024-2-2-XXX41-27 2024 FALSE       Check dyad  2               \n",
              "6 539871 HAI-2024-3-3-XXX41-19 2024 FALSE       Check dyad  3               \n",
              "  conflict_dset_id conflict_new_id conflict_name     dyad_dset_id ⋯\n",
              "1 XXX41              70            XXX41             1-XXX41      ⋯\n",
              "2 XXX41              70            XXX41             1-XXX41      ⋯\n",
              "3 XXX41              70            XXX41             1-XXX41      ⋯\n",
              "4 XXX41              70            XXX41             1-XXX41      ⋯\n",
              "5 2-XXX41            70            XXX41 - XXX41     2-XXX41      ⋯\n",
              "6 XXX41            4329            XXX41 - Civilians XXX41        ⋯\n",
              "  date_end            deaths_a deaths_b deaths_civilians deaths_unknown best\n",
              "1 2024-08-11T00:00:00 0         7       0                0               7  \n",
              "2 2024-08-16T00:00:00 0        12       0                0              12  \n",
              "3 2024-08-28T00:00:00 1         0       0                0               1  \n",
              "4 2024-08-24T00:00:00 0         4       0                0               4  \n",
              "5 2024-08-15T00:00:00 0         0       0                1               1  \n",
              "6 2024-08-11T00:00:00 0         0       1                0               1  \n",
              "  high low gwnoa gwnob\n",
              "1  7    7  NA    NA   \n",
              "2 12   12  NA    NA   \n",
              "3  1    1  NA    NA   \n",
              "4  4    4  NA    NA   \n",
              "5  1    1  NA    NA   \n",
              "6  1    1  NA    NA   "
            ]
          },
          "metadata": {}
        }
      ]
    },
    {
      "cell_type": "markdown",
      "source": [
        "### Most Violent Areas"
      ],
      "metadata": {
        "id": "3sAkrivLAcLI"
      }
    },
    {
      "cell_type": "markdown",
      "source": [
        "**WARNING: We have to be carefull with all monitoring to check a lack of reported violence in an area is due to there not being violence, due to a lack of coverage, due to the violence not falling under a dataset's definition, or due to some other cause that could create a false sense of security**"
      ],
      "metadata": {
        "id": "z06ToplEB5nI"
      }
    },
    {
      "cell_type": "code",
      "source": [
        "api_df$events <- 1\n",
        "events_adm2 <- api_df |>\n",
        "  group_by(adm_2) |>\n",
        "  summarise(events = sum(events, na.rm = FALSE))\n",
        "\n",
        "deaths_adm2 <- api_df |>\n",
        "  group_by(adm_2) |>\n",
        "  summarise(total_deaths = sum(best, na.rm = FALSE))\n",
        "\n",
        "civ_deaths_adm2 <- api_df |>\n",
        "  group_by(adm_2) |>\n",
        "  summarise(civilian_deaths = sum(deaths_civilians, na.rm = FALSE))\n",
        "\n",
        "events_adm2\n",
        "deaths_adm2\n",
        "civ_deaths_adm2"
      ],
      "metadata": {
        "colab": {
          "base_uri": "https://localhost:8080/",
          "height": 448
        },
        "id": "dR0lGKgup9lP",
        "outputId": "28d5df28-3e84-4e24-b3c1-0a71e35f7894"
      },
      "execution_count": 11,
      "outputs": [
        {
          "output_type": "display_data",
          "data": {
            "text/html": [
              "<table class=\"dataframe\">\n",
              "<caption>A tibble: 2 × 2</caption>\n",
              "<thead>\n",
              "\t<tr><th scope=col>adm_2</th><th scope=col>events</th></tr>\n",
              "\t<tr><th scope=col>&lt;chr&gt;</th><th scope=col>&lt;dbl&gt;</th></tr>\n",
              "</thead>\n",
              "<tbody>\n",
              "\t<tr><td>Port-au-Prince arrondissement</td><td>6</td></tr>\n",
              "\t<tr><td>Saint-Marc arrondissement    </td><td>1</td></tr>\n",
              "</tbody>\n",
              "</table>\n"
            ],
            "text/markdown": "\nA tibble: 2 × 2\n\n| adm_2 &lt;chr&gt; | events &lt;dbl&gt; |\n|---|---|\n| Port-au-Prince arrondissement | 6 |\n| Saint-Marc arrondissement     | 1 |\n\n",
            "text/latex": "A tibble: 2 × 2\n\\begin{tabular}{ll}\n adm\\_2 & events\\\\\n <chr> & <dbl>\\\\\n\\hline\n\t Port-au-Prince arrondissement & 6\\\\\n\t Saint-Marc arrondissement     & 1\\\\\n\\end{tabular}\n",
            "text/plain": [
              "  adm_2                         events\n",
              "1 Port-au-Prince arrondissement 6     \n",
              "2 Saint-Marc arrondissement     1     "
            ]
          },
          "metadata": {}
        },
        {
          "output_type": "display_data",
          "data": {
            "text/html": [
              "<table class=\"dataframe\">\n",
              "<caption>A tibble: 2 × 2</caption>\n",
              "<thead>\n",
              "\t<tr><th scope=col>adm_2</th><th scope=col>total_deaths</th></tr>\n",
              "\t<tr><th scope=col>&lt;chr&gt;</th><th scope=col>&lt;int&gt;</th></tr>\n",
              "</thead>\n",
              "<tbody>\n",
              "\t<tr><td>Port-au-Prince arrondissement</td><td>15</td></tr>\n",
              "\t<tr><td>Saint-Marc arrondissement    </td><td>12</td></tr>\n",
              "</tbody>\n",
              "</table>\n"
            ],
            "text/markdown": "\nA tibble: 2 × 2\n\n| adm_2 &lt;chr&gt; | total_deaths &lt;int&gt; |\n|---|---|\n| Port-au-Prince arrondissement | 15 |\n| Saint-Marc arrondissement     | 12 |\n\n",
            "text/latex": "A tibble: 2 × 2\n\\begin{tabular}{ll}\n adm\\_2 & total\\_deaths\\\\\n <chr> & <int>\\\\\n\\hline\n\t Port-au-Prince arrondissement & 15\\\\\n\t Saint-Marc arrondissement     & 12\\\\\n\\end{tabular}\n",
            "text/plain": [
              "  adm_2                         total_deaths\n",
              "1 Port-au-Prince arrondissement 15          \n",
              "2 Saint-Marc arrondissement     12          "
            ]
          },
          "metadata": {}
        },
        {
          "output_type": "display_data",
          "data": {
            "text/html": [
              "<table class=\"dataframe\">\n",
              "<caption>A tibble: 2 × 2</caption>\n",
              "<thead>\n",
              "\t<tr><th scope=col>adm_2</th><th scope=col>civilian_deaths</th></tr>\n",
              "\t<tr><th scope=col>&lt;chr&gt;</th><th scope=col>&lt;int&gt;</th></tr>\n",
              "</thead>\n",
              "<tbody>\n",
              "\t<tr><td>Port-au-Prince arrondissement</td><td>2</td></tr>\n",
              "\t<tr><td>Saint-Marc arrondissement    </td><td>0</td></tr>\n",
              "</tbody>\n",
              "</table>\n"
            ],
            "text/markdown": "\nA tibble: 2 × 2\n\n| adm_2 &lt;chr&gt; | civilian_deaths &lt;int&gt; |\n|---|---|\n| Port-au-Prince arrondissement | 2 |\n| Saint-Marc arrondissement     | 0 |\n\n",
            "text/latex": "A tibble: 2 × 2\n\\begin{tabular}{ll}\n adm\\_2 & civilian\\_deaths\\\\\n <chr> & <int>\\\\\n\\hline\n\t Port-au-Prince arrondissement & 2\\\\\n\t Saint-Marc arrondissement     & 0\\\\\n\\end{tabular}\n",
            "text/plain": [
              "  adm_2                         civilian_deaths\n",
              "1 Port-au-Prince arrondissement 2              \n",
              "2 Saint-Marc arrondissement     0              "
            ]
          },
          "metadata": {}
        }
      ]
    },
    {
      "cell_type": "markdown",
      "source": [
        "Mapping the violence"
      ],
      "metadata": {
        "id": "CLHo8hQ3Dxpl"
      }
    },
    {
      "cell_type": "code",
      "source": [
        "install.packages('maps')\n"
      ],
      "metadata": {
        "id": "7HDPe543XvTl",
        "colab": {
          "base_uri": "https://localhost:8080/"
        },
        "outputId": "e63aa9d0-1ba1-429b-b6f5-4d1af35f5f63"
      },
      "execution_count": 3,
      "outputs": [
        {
          "output_type": "stream",
          "name": "stderr",
          "text": [
            "Installing package into ‘/usr/local/lib/R/site-library’\n",
            "(as ‘lib’ is unspecified)\n",
            "\n"
          ]
        }
      ]
    },
    {
      "cell_type": "code",
      "source": [
        "system('sudo add-apt-repository ppa:ubuntugis/ubuntugis-unstable')\n",
        "system('sudo apt-get update')\n",
        "system('sudo apt-get install libudunits2-dev libgdal-dev libgeos-dev libproj-dev')\n",
        "install.packages('sf')"
      ],
      "metadata": {
        "colab": {
          "base_uri": "https://localhost:8080/"
        },
        "id": "eMZbUKmdpwgz",
        "outputId": "5de67d23-1adf-4220-f373-ff08e59bd87f"
      },
      "execution_count": 5,
      "outputs": [
        {
          "output_type": "stream",
          "name": "stderr",
          "text": [
            "Installing package into ‘/usr/local/lib/R/site-library’\n",
            "(as ‘lib’ is unspecified)\n",
            "\n",
            "also installing the dependency ‘s2’\n",
            "\n",
            "\n"
          ]
        }
      ]
    },
    {
      "cell_type": "code",
      "source": [
        "library(tidyverse)\n",
        "library(maps)\n",
        "\n",
        "map_df <- map_data(\"world\") %>%\n",
        "  select(long, lat, group, region, id = subregion)\n",
        "\n",
        "data_labels <- tibble(x = c(-60, -50, -62, -65),\n",
        "                      y = c(-22, -24.5, -28, -21),\n",
        "                      label = c(\"Paraguay\", \"Brasil\", \"Argentina\", \"Bolivia\"))\n",
        "\n",
        "map <- ggplot() +\n",
        "  geom_polygon(map_df, mapping = aes(long, lat, group = group),\n",
        "               fill = ifelse(map_df$region == \"Haiti\",\n",
        "                               \"#E2E3E1\", \"#F3F3F3\"),\n",
        "               colour = ifelse(map_df$region == \"Haiti\",\n",
        "                               \"#3B3B3B\", \"#D0D1CF\")) +\n",
        "  theme_void() +\n",
        "  theme(plot.background = element_rect(fill = \"#F3F3F3\"),\n",
        "        panel.border = element_blank(),\n",
        "        legend.position = \"none\",\n",
        "        plot.title = ggplot2::element_text(family = \"Roboto\",\n",
        "                                           face = \"bold\",\n",
        "                                           size = 24,\n",
        "                                           color = \"#3B3B3B\",\n",
        "                                           hjust = 0),\n",
        "        plot.subtitle = ggplot2::element_text(family = \"Roboto\",\n",
        "                                              size = 19,\n",
        "                                              color = \"#3b3b3b\",\n",
        "                                              margin = ggplot2::margin(9, 0,\n",
        "                                                                       20, 0),\n",
        "                                              hjust = 0),\n",
        "        plot.caption = ggplot2::element_blank(),\n",
        "        plot.margin = margin(6, 6, 6, 6)) +\n",
        "  coord_sf(xlim = c(-74.819018, -70.765063), ylim = c(17, 20)) +\n",
        "  geom_point(api_df,\n",
        "             mapping = aes(x = longitude, y = latitude),\n",
        "                           fill = 'red',\n",
        "             size = api_df$best,\n",
        "             shape = 21,\n",
        "             color = \"#3B3B3B\",\n",
        "             fill = \"#AFDDD4\",\n",
        "             stroke = .5,\n",
        "             alpha = .3) +\n",
        "  geom_point(api_df,\n",
        "              mapping = aes(x = longitude, y = latitude),\n",
        "                            fill = 'blue',\n",
        "              size = api_df$deaths_civilians,\n",
        "              shape = 21,\n",
        "              color = \"#3B3B3B\",\n",
        "              fill = \"#AFDDD4\",\n",
        "              stroke = .5,\n",
        "              alpha = .3) +\n",
        "  geom_text(mapping = aes(x = -70, y = 17, label =\n",
        "    \"i\\u200An\\u200As\\u200Ai\\u200Ag\\u200Ah\\u200At\\u200Ac\\u200Ar\\u200Ai\\u200Am\\u200Ae\\u200A.\\u200Ao\\u200Ar\\u200Ag\"\n",
        "     ),\n",
        "    size = 3.5, family = \"Noto Serif\", fontface = \"italic\", color = \"#a5a5a5\") +\n",
        "  geom_text(mapping = aes(x = -63, y = -29.2, label = \"Fuente: Ministerio de Justicia, mayo de 2023\"\n",
        "  ),\n",
        "  size = 3.5, family = \"Roboto\", color = \"#a5a5a5\") +\n",
        "    labs(title = \"  Las sobrepobladas cárceles de Paraguay\\n  han favorecido el crimen organizado\")\n",
        ""
      ],
      "metadata": {
        "id": "UTsCcwPeX-P6",
        "colab": {
          "base_uri": "https://localhost:8080/"
        },
        "outputId": "906efe8c-c592-4934-8edc-bfddc1f7f0cf"
      },
      "execution_count": 22,
      "outputs": [
        {
          "output_type": "stream",
          "name": "stderr",
          "text": [
            "Warning message:\n",
            "“\u001b[1m\u001b[22mDuplicated aesthetics after name standardisation: \u001b[32mfill\u001b[39m”\n",
            "Warning message:\n",
            "“\u001b[1m\u001b[22mDuplicated aesthetics after name standardisation: \u001b[32mfill\u001b[39m”\n"
          ]
        }
      ]
    },
    {
      "cell_type": "code",
      "source": [
        "map"
      ],
      "metadata": {
        "colab": {
          "base_uri": "https://localhost:8080/",
          "height": 784
        },
        "id": "SciD4SdaiR74",
        "outputId": "b0cc1b3a-ebe8-44c3-a866-2c595486069f"
      },
      "execution_count": 23,
      "outputs": [
        {
          "output_type": "stream",
          "name": "stderr",
          "text": [
            "Warning message in grid.Call(C_textBounds, as.graphicsAnnot(x$label), x$x, x$y, :\n",
            "“font family 'Roboto' not found in PostScript font database”\n",
            "Warning message in grid.Call(C_textBounds, as.graphicsAnnot(x$label), x$x, x$y, :\n",
            "“font family 'Roboto' not found in PostScript font database”\n",
            "Warning message in grid.Call(C_textBounds, as.graphicsAnnot(x$label), x$x, x$y, :\n",
            "“font family 'Roboto' not found in PostScript font database”\n",
            "Warning message in grid.Call.graphics(C_text, as.graphicsAnnot(x$label), x$x, x$y, :\n",
            "“font family 'Noto Serif' not found in PostScript font database”\n",
            "Warning message in grid.Call.graphics(C_text, as.graphicsAnnot(x$label), x$x, x$y, :\n",
            "“font family 'Noto Serif' not found in PostScript font database”\n",
            "Warning message in grid.Call.graphics(C_text, as.graphicsAnnot(x$label), x$x, x$y, :\n",
            "“font family 'Roboto' not found in PostScript font database”\n",
            "Warning message in grid.Call.graphics(C_text, as.graphicsAnnot(x$label), x$x, x$y, :\n",
            "“font family 'Roboto' not found in PostScript font database”\n",
            "Warning message in grid.Call.graphics(C_text, as.graphicsAnnot(x$label), x$x, x$y, :\n",
            "“font family 'Roboto' not found in PostScript font database”\n",
            "Warning message in grid.Call.graphics(C_text, as.graphicsAnnot(x$label), x$x, x$y, :\n",
            "“font family 'Roboto' not found in PostScript font database”\n",
            "Warning message in grid.Call.graphics(C_text, as.graphicsAnnot(x$label), x$x, x$y, :\n",
            "“font family 'Roboto' not found in PostScript font database”\n"
          ]
        },
        {
          "output_type": "display_data",
          "data": {
            "text/plain": [
              "plot without title"
            ],
            "image/png": "[encoded data removed]"
          },
          "metadata": {
            "image/png": {
              "width": 420,
              "height": 420
            }
          }
        }
      ]
    },
    {
      "cell_type": "code",
      "source": [],
      "metadata": {
        "id": "8XsrtG-wu205"
      },
      "execution_count": null,
      "outputs": []
    }
  ]
}